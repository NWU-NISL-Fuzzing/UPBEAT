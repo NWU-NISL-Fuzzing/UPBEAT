{
 "cells": [
  {
   "cell_type": "markdown",
   "metadata": {},
   "source": [
    "### Introduction\n",
    "\n",
    "This Jupyter Notebook can be divided into three parts: (1) a single case to demonstrate the entire Upbeat pipeline, (2) a small-scale test to show the effectiveness of Upbeat, and (3) the evaluation presented in our paper.\n",
    "\n",
    "The complete experiment in our paper included more test cases and ran for a longer duration. However, this notebook focuses on minimal examples to explore the capabilities of Upbeat at an affordable cost.\n",
    "\n",
    "### Instructions for Running the Notebook\n",
    "\n",
    "1. Copy the Notebook: Please make a copy of main.ipynb.\n",
    "2. Restart and Clear Output: Open the copied notebook and select \"Restart & Clear Output\" from the Kernel menu.\n",
    "3. Run the Notebook: Press the play button to execute each cell sequentially. Ensure you wait for each cell to complete before proceeding to the next one.\n",
    "\n",
    "**Note:** It is crucial to wait for each step to finish. Moving to the next cell prematurely may cause errors due to incomplete data processing."
   ]
  },
  {
   "cell_type": "markdown",
   "metadata": {},
   "source": [
    "### 1 A Single Case Study\n",
    "\n",
    "#### 1.1 Generate test cases\n",
    "\n",
    "First, we need to import necessary tools and load code segment database. "
   ]
  },
  {
   "cell_type": "code",
   "execution_count": 1,
   "metadata": {},
   "outputs": [
    {
     "name": "stdout",
     "output_type": "stream",
     "text": [
      "Done.\n"
     ]
    }
   ],
   "source": [
    "import random\n",
    "import ast\n",
    "import os\n",
    "os.chdir(\"../src/Generate\")\n",
    "\n",
    "from basic_operation.dict_operation import get_rest_args\n",
    "from DBOperation.dboperation_sqlite import DataBaseHandle\n",
    "from combine_fragment import CodeFragmentGenerator, get_contained_cons\n",
    "from cons_generator.cwvp import generate_if_cons_exist\n",
    "from generate import Generate\n",
    "from class_for_info.fragment_info import CodeFragmentInfo\n",
    "\n",
    "generate = Generate(\"../config.json\")\n",
    "fragment = CodeFragmentGenerator(1, \"CodeFragment_CW\")\n",
    "frag_db = DataBaseHandle(\"../../data/query/corpus-v3.db\")\n",
    "frag_list = frag_db.selectAll(\"select * from CodeFragment_CW\")\n",
    "print(\"Done.\")"
   ]
  },
  {
   "cell_type": "markdown",
   "metadata": {},
   "source": [
    "Then, we can select a code segment from corpus. "
   ]
  },
  {
   "cell_type": "code",
   "execution_count": 2,
   "metadata": {},
   "outputs": [
    {
     "name": "stdout",
     "output_type": "stream",
     "text": [
      "\u001b[1mcontent of code segment:\u001b[0m\n",
      "if Snd(r2752) == 0L or AbsL(Snd(s2752)) > denominatorBound2752 {\n",
      "    let returnVar = (Snd(r2752) == 0L and AbsL(Snd(s2752)) <= denominatorBound2752)? BigFraction(-Snd(t2752) * IntAsBigInt(signB2752), Snd(s2752) * IntAsBigInt(signA2752))| BigFraction(-Fst(t2752) * IntAsBigInt(signB2752), Fst(s2752) * IntAsBigInt(signA2752));\n",
      "}\n",
      "let quotient2752 = Fst(r2752) / Snd(r2752);\n",
      "let r_2752 = (Snd(r2752), Fst(r2752) - quotient2752 * Snd(r2752));\n",
      "\n",
      "\u001b[1mpre-conditions:\u001b[0m {'signA2752': 'Int', 'signB2752': 'Int', 'r2752': '(BigInt,BigInt)', 's2752': '(BigInt,BigInt)', 't2752': '(BigInt,BigInt)', 'denominatorBound2752': 'BigInt'} \n",
      "\u001b[1mpost-conditions:\u001b[0m {'quotient2752': \"'T\", 'r_2752': \"'T\"}\n"
     ]
    }
   ],
   "source": [
    "frag = random.choice(frag_list)\n",
    "available_variables = ast.literal_eval(frag[2])\n",
    "needful_variables = ast.literal_eval(frag[3])\n",
    "print(\"\\033[1mcontent of code segment:\\033[0m\\n\"+frag[1]+\n",
    "      \"\\033[1mpre-conditions:\\033[0m\",needful_variables,\"\\n\\033[1mpost-conditions:\\033[0m\",available_variables)"
   ]
  },
  {
   "cell_type": "markdown",
   "metadata": {},
   "source": [
    "Upbeat first check whether the selected code fragment contains any constraints. If constraints are present, Upbeat generates both valid and invalid values, marking them with a comment as a flag. Next, Upbeat attempts to combine other segments with the selected code fragment. Finally, Upbeat generates all other necessary input values."
   ]
  },
  {
   "cell_type": "code",
   "execution_count": 3,
   "metadata": {},
   "outputs": [
    {
     "name": "stdout",
     "output_type": "stream",
     "text": [
      "\u001b[1mvalid_stmt:\u001b[0m\n",
      "//no cons\n",
      "//no cons\n",
      "mutable b5533 = -2^63;\n",
      "let signB5533 = SignI(b5533);\n",
      "mutable (s15533, s25533) = (1, 0);\n",
      "let signA2752 = signB5533;\n",
      "mutable signB2752 = 8;\n",
      "mutable r2752 = (2L,-1L);\n",
      "mutable s2752 = (-1L,-418L);\n",
      "mutable t2752 = (848L,154L);\n",
      "mutable denominatorBound2752 = 2L^63-1L;\n",
      "if Snd(r2752) == 0L or AbsL(Snd(s2752)) > denominatorBound2752 {\n",
      "    let returnVar = (Snd(r2752) == 0L and AbsL(Snd(s2752)) <= denominatorBound2752)? BigFraction(-Snd(t2752) * IntAsBigInt(signB2752), Snd(s2752) * IntAsBigInt(signA2752))| BigFraction(-Fst(t2752) * IntAsBigInt(signB2752), Fst(s2752) * IntAsBigInt(signA2752));\n",
      "}\n",
      "let quotient2752 = Fst(r2752) / Snd(r2752);\n",
      "let r_2752 = (Snd(r2752), Fst(r2752) - quotient2752 * Snd(r2752));\n",
      "Message($\"{quotient2752}\");\n",
      "Message($\"{r_2752}\");\n",
      "\u001b[1minvalid_stmt:\u001b[0m\n",
      "//no cons\n",
      "//no cons\n",
      "mutable b5533 = -2^63;\n",
      "let signB5533 = SignI(b5533);\n",
      "mutable (s15533, s25533) = (1, 0);\n",
      "let signA2752 = signB5533;\n",
      "mutable signB2752 = 8;\n",
      "mutable r2752 = (2L,-1L);\n",
      "mutable s2752 = (-1L,-418L);\n",
      "mutable t2752 = (848L,154L);\n",
      "mutable denominatorBound2752 = 2L^63-1L;\n",
      "if Snd(r2752) == 0L or AbsL(Snd(s2752)) > denominatorBound2752 {\n",
      "    let returnVar = (Snd(r2752) == 0L and AbsL(Snd(s2752)) <= denominatorBound2752)? BigFraction(-Snd(t2752) * IntAsBigInt(signB2752), Snd(s2752) * IntAsBigInt(signA2752))| BigFraction(-Fst(t2752) * IntAsBigInt(signB2752), Fst(s2752) * IntAsBigInt(signA2752));\n",
      "}\n",
      "let quotient2752 = Fst(r2752) / Snd(r2752);\n",
      "let r_2752 = (Snd(r2752), Fst(r2752) - quotient2752 * Snd(r2752));\n",
      "Message($\"{quotient2752}\");\n",
      "Message($\"{r_2752}\");\n",
      "\n"
     ]
    }
   ],
   "source": [
    "# Parse constraints\n",
    "bool_expr_list, func_ret_list, quanternion_list, needful_args, partial_reset_stmt = \\\n",
    "    get_contained_cons(frag[1], needful_variables)\n",
    "# print(\"bool_expr_list:\",bool_expr_list,\"func_ret_list:\",func_ret_list)\n",
    "if len(bool_expr_list) > 0 or len(func_ret_list) > 0:\n",
    "    print(\"\\033[94mThere exist constraints!Start to generate inputs.\\033[0m\")\n",
    "    valid_stmt, invalid_stmt = \\\n",
    "        generate_if_cons_exist(bool_expr_list, func_ret_list, quanternion_list, needful_args)\n",
    "    print(\"==valid==\\n\"+valid_stmt+\"\\n==invalid==\\n\"+invalid_stmt)\n",
    "else:\n",
    "    valid_stmt, invalid_stmt = \"//no cons\\n\", \"//no cons\\n\"\n",
    "# If generation failed\n",
    "if valid_stmt is None:\n",
    "    print(\"\\033[91m!!!Generation failed!\\033[0m\")\n",
    "# Generate values for other variables\n",
    "needful_variables = get_rest_args(needful_variables, needful_args)\n",
    "this_fragment_info = CodeFragmentInfo(frag[1], available_variables,\n",
    "                                      needful_variables, frag[4], \n",
    "                                      frag[5], frag[6])\n",
    "combined_fragment, combined_import = fragment.generate_a_code_frag(this_fragment_info)\n",
    "if combined_fragment is None:\n",
    "    print(\"\\033[91m!!!Generation failed!\\033[0m\")\n",
    "else:\n",
    "    combined_fragment = combined_fragment.replace(\"\\n\\n\", \"\\n\").replace(\"//no cons\\n//no cons\\n\", \"//no cons\\n\")\n",
    "    print(\"\\033[1mvalid_stmt:\\033[0m\\n\"+valid_stmt+combined_fragment+\\\n",
    "          \"\\033[1minvalid_stmt:\\033[0m\\n\"+invalid_stmt+combined_fragment)"
   ]
  },
  {
   "cell_type": "markdown",
   "metadata": {},
   "source": [
    "Finally, we will insert all generated elements into the template. If there are API constraints in the relevant code segments, Upbeat will generate two test cases (one for valid inputs and another for invalid inputs). Otherwise, Upbeat will generate a single test case. "
   ]
  },
  {
   "cell_type": "code",
   "execution_count": 4,
   "metadata": {},
   "outputs": [
    {
     "name": "stdout",
     "output_type": "stream",
     "text": [
      "\u001b[1m==valid_testcase==\n",
      "\u001b[0m namespace NISLNameSpace {\n",
      "    open Microsoft.Quantum.Canon;\n",
      "    open Microsoft.Quantum.Logical;\n",
      "    open Microsoft.Quantum.Arrays;\n",
      "    open Microsoft.Quantum.Convert;\n",
      "    open Microsoft.Quantum.Intrinsic;\n",
      "    open Microsoft.Quantum.Diagnostics;\n",
      "    open Microsoft.Quantum.Arithmetic;\n",
      "    open Microsoft.Quantum.Oracles;\n",
      "    open Microsoft.Quantum.Math;\n",
      "\n",
      "\n",
      "    \n",
      "    @EntryPoint()\n",
      "    operation main() : Unit {\n",
      "        //no cons\n",
      "        //no cons\n",
      "        mutable b5533 = -2^63;\n",
      "        let signB5533 = SignI(b5533);\n",
      "        mutable (s15533, s25533) = (1, 0);\n",
      "        let signA2752 = signB5533;\n",
      "        mutable signB2752 = 8;\n",
      "        mutable r2752 = (2L,-1L);\n",
      "        mutable s2752 = (-1L,-418L);\n",
      "        mutable t2752 = (848L,154L);\n",
      "        mutable denominatorBound2752 = 2L^63-1L;\n",
      "        if Snd(r2752) == 0L or AbsL(Snd(s2752)) > denominatorBound2752 {\n",
      "            let returnVar = (Snd(r2752) == 0L and AbsL(Snd(s2752)) <= denominatorBound2752)? BigFraction(-Snd(t2752) * IntAsBigInt(signB2752), Snd(s2752) * IntAsBigInt(signA2752))| BigFraction(-Fst(t2752) * IntAsBigInt(signB2752), Fst(s2752) * IntAsBigInt(signA2752));\n",
      "        }\n",
      "        let quotient2752 = Fst(r2752) / Snd(r2752);\n",
      "        let r_2752 = (Snd(r2752), Fst(r2752) - quotient2752 * Snd(r2752));\n",
      "        Message($\"{quotient2752}\");\n",
      "        Message($\"{r_2752}\");\n",
      "        \n",
      "    }\n",
      "}\n",
      "\u001b[1m==invalid_testcase==\n",
      "Same as below.\u001b[0m\n"
     ]
    }
   ],
   "source": [
    "valid_testcase, invalid_testcase = \"\", \"\"\n",
    "# Get self_defined_callables\n",
    "defined_callables = \"\"\n",
    "for item in fragment.self_defined_callables:\n",
    "    if isinstance(item, str):\n",
    "        if item not in defined_callables:\n",
    "            defined_callables += item\n",
    "    else:\n",
    "        if item.content not in defined_callables:\n",
    "            defined_callables += item.content\n",
    "# print(\"===defined_callables:\\n\"+defined_callables+\"\\n\")\n",
    "# Process valid test case\n",
    "valid_fragment = valid_stmt+combined_fragment+partial_reset_stmt\n",
    "valid_import = combined_import\n",
    "valid_testcase = generate.assemble_testcase(valid_fragment, valid_import, [defined_callables])\n",
    "print(\"\\033[1m==valid_testcase==\\n\\033[0m\",valid_testcase)\n",
    "# Process invalid test case\n",
    "if invalid_stmt is None or invalid_stmt == valid_stmt:\n",
    "    print(\"\\033[1m==invalid_testcase==\\nSame as below.\\033[0m\")\n",
    "else:\n",
    "    invalid_fragment = invalid_stmt+combined_fragment+partial_reset_stmt\n",
    "    invalid_import = combined_import\n",
    "    invalid_testcase = generate.assemble_testcase(invalid_fragment, invalid_import, [defined_callables])\n",
    "    print(\"\\033[1m==invalid_testcase==\\n\\033[0m\",invalid_testcase)"
   ]
  },
  {
   "cell_type": "markdown",
   "metadata": {},
   "source": [
    "#### 1.2 Execute test cases\n",
    "The test oracles of Upbeat come from (1) language-level testing via constraints or (2) differential testing. In language-level testing, any results deviate from expected behaviors, crashed and timeouts will be served as anomalous. "
   ]
  },
  {
   "cell_type": "code",
   "execution_count": 5,
   "metadata": {},
   "outputs": [
    {
     "name": "stdout",
     "output_type": "stream",
     "text": [
      "\u001b[1m==language-level testing==\u001b[0m\n",
      "Please wait a few seconds until you see the message 'nothing happended' or '!!!find wrong cons'.\n",
      "\u001b[1mcmd:\u001b[0mdotnet run\n",
      "\u001b[1moutput1:\n",
      "\u001b[0m[]\n",
      "-2\n",
      "(-1, 0)\n",
      "\u001b[92mnothing happened\u001b[0m\n"
     ]
    }
   ],
   "source": [
    "os.chdir(\"../Fuzzing\")\n",
    "\n",
    "from Fuzzing.lib.Harness import *\n",
    "from Fuzzing.lib.post_processor import *\n",
    "from Generate.basic_operation.file_operation import initParams\n",
    "\n",
    "# You can also change `valid_testcase`` into `invalid_testcase` if they are different\n",
    "testcase_content = valid_testcase\n",
    "\n",
    "print(\"\\033[1m==language-level testing==\\033[0m\")\n",
    "print(\"Please wait a few seconds until you see the message 'nothing happended' or '!!!find wrong cons'.\")\n",
    "susp_flag = False\n",
    "# Record expected behavior\n",
    "if \"//wrong\" in testcase_content or \"//invalid\" in testcase_content:\n",
    "    flag = 0\n",
    "elif \"//correct\" in testcase_content or \"//valid\" in testcase_content:\n",
    "    flag = 1\n",
    "else:\n",
    "    flag = -1\n",
    "# Execute test case\n",
    "output = execute(0, testcase_content, [\"dotnet\", \"run\"], False)\n",
    "print(\"\\033[1moutput1:\\n\\033[0m\"+output.stdout)\n",
    "# Detect anomalous\n",
    "if  ((flag == 1 and output.returnCode != 0) or \n",
    "    (flag == 0 and output.returnCode == 0) or \n",
    "    output.outputClass in [\"timout\", \"crash\"]):\n",
    "    print(\"\\033[91m!!!find wrong cons\\033[0m\")\n",
    "    susp_flag = True\n",
    "else:\n",
    "    print(\"\\033[92mnothing happened\\033[0m\")"
   ]
  },
  {
   "cell_type": "markdown",
   "metadata": {},
   "source": [
    "In differential testing, Upbeat will detect any inconsistency, crash, or timeout. \n",
    "\n",
    "**Note:** The voting scheme has filtered some simple faulty behaviors. For example, ToffoliSimulator only supports parts of basic gates, it will throw a `NotImplementedException` exception if the test cases contain unsupported callables. Upbeat does not compare this exception with other results. "
   ]
  },
  {
   "cell_type": "code",
   "execution_count": 6,
   "metadata": {},
   "outputs": [
    {
     "name": "stdout",
     "output_type": "stream",
     "text": [
      "\u001b[1mcmd:\u001b[0mdotnet run -s SparseSimulator\n",
      "\u001b[1moutput2:\n",
      "\u001b[0m[]\n",
      "-2\n",
      "(-1, 0)\n",
      "\u001b[1mcmd:\u001b[0mdotnet run -s ToffoliSimulator\n",
      "\u001b[1moutput3:\n",
      "\u001b[0m[]\n",
      "-2\n",
      "(-1, 0)\n",
      "\u001b[92mnothing happened\u001b[0m\n"
     ]
    }
   ],
   "source": [
    "# differential testing activates only if language-level testing detects no anomalies\n",
    "if not susp_flag and output.returnCode not in [134, 137]:\n",
    "    outputs = [output]\n",
    "    command_list = [[\"dotnet\", \"run\", \"-s\", \"SparseSimulator\"],\n",
    "                    [\"dotnet\", \"run\", \"-s\", \"ToffoliSimulator\"]]\n",
    "    # execute on SparseSimulator and ToffoliSimulator\n",
    "    for i, cmd in enumerate(command_list, start=2):\n",
    "        tmp_output = execute(0, output.testcaseContent, cmd, False)\n",
    "        outputs.append(tmp_output)\n",
    "        print(\"\\033[1moutput\"+str(i)+\":\\n\\033[0m\"+tmp_output.stdout)\n",
    "    # voting scheme\n",
    "    vote(outputs, output.testcaseContent)\n",
    "else:\n",
    "    print(\"Already be anomalous in the language-level testing.\")"
   ]
  },
  {
   "cell_type": "markdown",
   "metadata": {},
   "source": [
    "#### 1.3 Filter anomalies\n",
    "\n",
    "Upbeat can classify anomalies into three categories: \n",
    "+ bugs that have already been analyzed,\n",
    "+ faulty that have already been analyzed,\n",
    "+ new anomalies awaiting verification. \n",
    "\n",
    "In the following cell, `filter_boundary()` is used to filter anomalous in language-level testing, and `filter_differential` is used to filter anomalous in differential testing.\n",
    "\n",
    "**Note:** If differential testing is not performed, you have two options: (1) generate new test cases and run the test again or (2) comment out the last line in the following cell (i.e., `filter_differential(result_db)`)."
   ]
  },
  {
   "cell_type": "code",
   "execution_count": 7,
   "metadata": {},
   "outputs": [
    {
     "name": "stdout",
     "output_type": "stream",
     "text": [
      "There already exists a version of filtered results. \n",
      "\u001b[1mBugs that have already been analyzed:\u001b[0m\n",
      "\n",
      "\u001b[1mFaulty that have already been analyzed:\u001b[0m\n",
      "3('//correct', '//no cons')\n",
      "\n",
      "\u001b[1mNew anomalies awaiting verification:\u001b[0m\n",
      "\n"
     ]
    }
   ],
   "source": [
    "os.chdir(\"../\")\n",
    "\n",
    "from Fuzzing.history_bug_filter import filter_boundary, filter_differential\n",
    "\n",
    "if os.path.exists(\"new_anomalies.txt\"):\n",
    "    print(\"There already exists a version of filtered results. \")\n",
    "    with open(\"bug.txt\", \"r\") as f1:\n",
    "        content1 = f1.read()\n",
    "    print(\"\\033[1mBugs that have already been analyzed:\\033[0m\\n\"+content1)\n",
    "    with open(\"faulty.txt\", \"r\") as f2:\n",
    "        content2 = f2.read()\n",
    "    print(\"\\033[1mFaulty that have already been analyzed:\\033[0m\\n\"+content2)\n",
    "    with open(\"new_anomalies.txt\", \"r\") as f3:\n",
    "        content3 = f3.read()\n",
    "    print(\"\\033[1mNew anomalies awaiting verification:\\033[0m\\n\"+content3)    \n",
    "else:\n",
    "    print(\"Start to filter.\")\n",
    "    result_db = DataBaseHandle(\"../../data/result/UPBEAT.db\")\n",
    "    history_db = DataBaseHandle(\"../../data/query/history-bugs.db\")\n",
    "    filter_boundary(result_db, history_db)\n",
    "    filter_differential(result_db)"
   ]
  },
  {
   "cell_type": "markdown",
   "metadata": {},
   "source": [
    "### 2 Small-Scale Testing\n",
    "\n",
    "To better demonstrate the effectiveness of Upbeat, a small-scale test is performed here. It will take about 5 minutes, please wait before moving to the next cell."
   ]
  },
  {
   "cell_type": "code",
   "execution_count": 8,
   "metadata": {},
   "outputs": [
    {
     "name": "stdout",
     "output_type": "stream",
     "text": [
      "\u001b[94mTotally get 10 fragment. Start to generate testcase.\u001b[0m\n",
      "--0--\n",
      "--1--\n",
      "--2--\n",
      "--3--\n",
      "--4--\n",
      "--5--\n",
      "--6--\n",
      "--7--\n",
      "--8--\n",
      "--9--\n",
      "\u001b[94mFinished. Totally get 10 test cases.\u001b[0m\n",
      "Here are 10 test cases.\n",
      "==running 1th test case==\n",
      "\u001b[1mcmd:\u001b[0mdotnet run\n",
      "\u001b[92mnothing happened\u001b[0m\n",
      "\u001b[1mcmd:\u001b[0mdotnet run -s SparseSimulator\n",
      "\u001b[1mcmd:\u001b[0mdotnet run -s ToffoliSimulator\n",
      "\u001b[92mnothing happened\u001b[0m\n",
      "==running 2th test case==\n",
      "\u001b[1mcmd:\u001b[0mdotnet run\n",
      "\u001b[92mnothing happened\u001b[0m\n",
      "\u001b[1mcmd:\u001b[0mdotnet run -s SparseSimulator\n",
      "\u001b[1mcmd:\u001b[0mdotnet run -s ToffoliSimulator\n",
      "\u001b[92mnothing happened\u001b[0m\n",
      "==running 3th test case==\n",
      "\u001b[1mcmd:\u001b[0mdotnet run\n",
      "\u001b[91m!!!find wrong cons\u001b[0m\n",
      "==running 4th test case==\n",
      "\u001b[1mcmd:\u001b[0mdotnet run\n",
      "\u001b[92mnothing happened\u001b[0m\n",
      "\u001b[1mcmd:\u001b[0mdotnet run -s SparseSimulator\n",
      "\u001b[1mcmd:\u001b[0mdotnet run -s ToffoliSimulator\n",
      "\u001b[92mnothing happened\u001b[0m\n",
      "==running 5th test case==\n",
      "\u001b[1mcmd:\u001b[0mdotnet run\n",
      "\u001b[92mnothing happened\u001b[0m\n",
      "\u001b[1mcmd:\u001b[0mdotnet run -s SparseSimulator\n",
      "\u001b[1mcmd:\u001b[0mdotnet run -s ToffoliSimulator\n",
      "\u001b[92mnothing happened\u001b[0m\n",
      "==running 6th test case==\n",
      "\u001b[1mcmd:\u001b[0mdotnet run\n",
      "\u001b[92mnothing happened\u001b[0m\n",
      "\u001b[1mcmd:\u001b[0mdotnet run -s SparseSimulator\n",
      "\u001b[1mcmd:\u001b[0mdotnet run -s ToffoliSimulator\n",
      "\u001b[92mnothing happened\u001b[0m\n",
      "==running 7th test case==\n",
      "\u001b[1mcmd:\u001b[0mdotnet run\n",
      "\u001b[91m!!!find wrong cons\u001b[0m\n",
      "==running 8th test case==\n",
      "\u001b[1mcmd:\u001b[0mdotnet run\n",
      "\u001b[91m!!!find wrong cons\u001b[0m\n",
      "==running 9th test case==\n",
      "\u001b[1mcmd:\u001b[0mdotnet run\n",
      "\u001b[92mnothing happened\u001b[0m\n",
      "\u001b[1mcmd:\u001b[0mdotnet run -s SparseSimulator\n",
      "\u001b[1mcmd:\u001b[0mdotnet run -s ToffoliSimulator\n",
      "\u001b[92mnothing happened\u001b[0m\n",
      "==running 10th test case==\n",
      "\u001b[1mcmd:\u001b[0mdotnet run\n",
      "\u001b[92mnothing happened\u001b[0m\n",
      "\u001b[1mcmd:\u001b[0mdotnet run -s SparseSimulator\n",
      "\u001b[1mcmd:\u001b[0mdotnet run -s ToffoliSimulator\n",
      "\u001b[92mnothing happened\u001b[0m\n",
      "==language-level testing==\n",
      "There are 41 historical bugs in database. Start to filter. \n",
      "==1==\n",
      "==2==\n",
      "==3==\n",
      "\u001b[94m 0 anomalous await to analyze.  2 anomalous are historical bugs.  1 anomalous are recorded faulties. \u001b[0m\n",
      "==differential testing==\n",
      "\u001b[94m 0 anomalous await to analyze.  0 anomalous are historical bugs.  0 anomalous are recorded faulties. \u001b[0m\n"
     ]
    }
   ],
   "source": [
    "os.chdir(\"../Generate\")\n",
    "from main import main as generate_testcases\n",
    "\n",
    "# print(\"Start to generate test cases.\")\n",
    "generate_testcases()\n",
    "# print(\"Finished.\")\n",
    "\n",
    "os.chdir(\"../Fuzzing\")\n",
    "from hybrid_testing import main as testing\n",
    "from history_bug_filter import main as filtering\n",
    "\n",
    "# print(\"Start to run language-level testing and differential testing.\")\n",
    "testing()\n",
    "# print(\"Finished.\")\n",
    "# print(\"Start to filter.\")\n",
    "\n",
    "os.chdir(\"../\")\n",
    "filtering()\n",
    "# print(\"Finished\")"
   ]
  },
  {
   "cell_type": "markdown",
   "metadata": {},
   "source": [
    "### 3 Experimental Results\n",
    "\n",
    "In our paper, we design four RQs to evaluate Upbeat:\n",
    "* RQ1: How effectively Upbeat is on detecting boundary bugs in Q# libraries?\n",
    "* RQ2: How does Upbeat compare with prior methods and baselines on bug detection?\n",
    "* RQ3: How do individual components of Upbeat contribute to its overall performance?\n",
    "* RQ4: How effective is Upbeat in extracting constraints from Q# libraries and API documents?\n",
    "\n",
    "Please run the following cells to view our experiment results.\n",
    "\n",
    "#### 3.1 Results for RQ1\n",
    "\n",
    "During our experiment period, Upbeat has uncovered 16 implementation bugs and 4 API document errors. To review all the bugs detected by Upbeat during this period, please run the following cell."
   ]
  },
  {
   "cell_type": "code",
   "execution_count": 10,
   "metadata": {},
   "outputs": [
    {
     "name": "stdout",
     "output_type": "stream",
     "text": [
      "| No.  |     API     |     Version      |                             Link                             | Status                         | Contributor                              | Description   |\n",
      "| :--: | :--------------: | :----------------------------------------------------------: | ------------------------------ | ---------------------------------------- | ------------------------------------------------ | ---- |\n",
      "| 1 | Binom | V0.21.2111177148 | [Bug Report1](https://github.com/microsoft/QuantumLibraries/issues/498) | First Found & Verified & Fixed | [Xing Qu](https://github.com/QuXing9) | k=0 or n=k will cause an overflow |\n",
      "| 2 | HalfIntegerBinom | v0.21.2111177148 | [Bug-Report2](/docs/bug/bug-14.png) | Verified & Fixed | [Xing Qu](https://github.com/QuXing9) | k=0 will cause overflow |\n",
      "| 3 | Sin | v0.25.228311 | [Bug-Report3](https://github.com/microsoft/QuantumLibraries/issues/624) | First Found & Verified | [Tianmin Hu](https://github.com/weucode) | different os has different outputs for theta=PI()/4 |\n",
      "| 4 | Ceiling | v0.25.228311 | [Bug-Report4](https://github.com/microsoft/qsharp-runtime/issues/1107) | First Found & Verified | [Tianmin Hu](https://github.com/weucode) | NaN() cause an overflow |\n",
      "| 5 | Truncate | v0.27.258160 | [Bug-Report5](https://github.com/microsoft/qsharp-runtime/issues/1139) | Submit | [Tianmin Hu](https://github.com/weucode) | send a large number to the argument will cause an overflow |\n",
      "| 6 | IncrementPhaseByModularInteger | v0.25.228311 | [Bug-Report6](https://github.com/microsoft/QuantumLibraries/issues/639) | Submit | [Qianbao He](https://github.com/hofirstb19) | has unknown qubits are unreleased |\n",
      "| 7 | IdenticalPointPosFactFxP | v0.27.238334 | [Bug-Report7](https://github.com/microsoft/QuantumLibraries/issues/645) | First Found & Verified & Fixed | [Tianmin Hu](https://github.com/weucode) | check is out of work when Length(fixedPoint)=2 |\n",
      "| 8 | Chunks | v0.23.195983 | [Bug Report8](https://github.com/microsoft/QuantumLibraries/issues/538) | First Found & Verified & Fixed | [Tianmin Hu](https://github.com/weucode) | nElements=0 cause a timeout |\n",
      "| 9 | SequenceL | v0.27.258160 | [Bug-Report9](https://github.com/microsoft/QuantumLibraries/issues/662) | Submit | [Tianmin Hu](https://github.com/weucode) | error check for to-from |\n",
      "| 10 | IntAsBoolArray | V0.21.2111177148 | [Bug Report10](https://github.com/microsoft/QuantumLibraries/issues/503) | First Found & Verified & Fixed | [Xing Qu](https://github.com/QuXing9)  | bits = 63 will fail to convert |\n",
      "| 11 | Parity | v0.24.201332 | [Bug-Report11](https://github.com/microsoft/qsharp-runtime/issues/993) | First Found & Verified | [Xing Qu](https://github.com/QuXing9) | failed when a is negative |\n",
      "| 12 | PurifiedMixedStateRequirements | v0.24.201332 | [Bug-Report12](https://github.com/microsoft/QuantumLibraries/issues/570) | First Found & Verified & Fixed | [Tianmin Hu](https://github.com/weucode) | a non-positive argument will cause overflow |\n",
      "| 13 | AssertQubitWithinTolerance | 0.24.201332 | [Bug-Report13](https://github.com/microsoft/qsharp-runtime/issues/990) | Submit | [Xing Qu](https://github.com/QuXing9) | always raises unexception with a wrong judge when tolerance is negative |\n",
      "| 14 | DumpMachine | v0.24.201332 | [Bug-Report14](https://github.com/microsoft/qsharp-runtime/issues/1081#issuecomment-1518472023) | Verified & Fixed | [Tianmin Hu](https://github.com/weucode) | the qubit states is encoded in big-endian instead of little-endian |\n",
      "| 15 | DumpRegister | v0.28.263081 | [Bug-Report15](https://github.com/microsoft/QuantumLibraries/issues/671) | Submit | [Zhenye Fan](https://github.com/AidPaike) | failed to report the given qubits are entangled with some other qubits |\n",
      "| 16 | Adjoint ApplyAnd | v0.28.277227 | [Bug-Report16](https://github.com/microsoft/QuantumLibraries/issues/677) | Submit | [Tianmin Hu](https://github.com/weucode) | ToffoliSimulator outputs different result compared to other simulators |\n",
      "\n",
      "| No.  | API                           | Version      | Link                                                         | Status                         | Contributor                              | Description                                                  |\n",
      "| ---- | ----------------------------- | ------------ | ------------------------------------------------------------ | ------------------------------ | ---------------------------------------- | ------------------------------------------------------------ |\n",
      "| 1    | Padded                        | v0.24.201332 | [Bug-Report1](https://github.com/microsoft/QuantumLibraries/issues/554) | First Found & Verified & Fixed | [Xing Qu](https://github.com/QuXing9)    | wrong argument order                                         |\n",
      "| 2    | Last                          | v0.24.201332 | [Bug-Report2](https://github.com/microsoft/QuantumLibraries/issues/563) | First Found & Verified & Fixed | [Tianmin Hu](https://github.com/weucode) | the example contains APIs that have been deprecated in the latest SDK version |\n",
      "| 3    | ApproximateFactorial          | v0.24.201332 | [Bug-Report3](https://github.com/microsoft/QuantumLibraries/issues/571) | First Found & Verified & Fixed | [Tianmin Hu](https://github.com/weucode) | the boundary description is wrong                            |\n",
      "| 4    | _ComputeJordanWignerBitString | v0.25.228311 | [Bug-Report4](https://github.com/microsoft/QuantumLibraries/issues/646) | First Found & Verified & Fixed | [Tianmin Hu](https://github.com/weucode) | the value of the first argument is wrong                     |\n",
      "\n"
     ]
    }
   ],
   "source": [
    "os.chdir(\"../../jupyter\")\n",
    "\n",
    "import re\n",
    "\n",
    "def extract_tables_from_md(md_file):\n",
    "    with open(md_file, 'r', encoding='utf-8') as file:\n",
    "        md_content = file.read()\n",
    "\n",
    "    table_pattern = r'\\|.*\\|[\\s\\S]*?\\n(?=\\n|\\Z)'\n",
    "    tables = re.findall(table_pattern, md_content)\n",
    "\n",
    "    return tables\n",
    "\n",
    "def main():\n",
    "    md_file = '../data/experiment/BugList.md'\n",
    "    tables = extract_tables_from_md(md_file)\n",
    "\n",
    "    for table in tables:\n",
    "        print(table)\n",
    "\n",
    "if __name__ == \"__main__\":\n",
    "    main()"
   ]
  },
  {
   "cell_type": "markdown",
   "metadata": {},
   "source": [
    "#### 3.2 Results for RQ2\n",
    "\n",
    "Upbeat outperforms the competing baselines by providing better code coverage and identifying more potential bugs with the same test time. Execute the following two cells to observe the coverage and anomaly results."
   ]
  },
  {
   "cell_type": "code",
   "execution_count": 11,
   "metadata": {},
   "outputs": [
    {
     "data": {
      "image/png": "[encoded data removed]",
      "text/plain": [
       "<Figure size 600x400 with 1 Axes>"
      ]
     },
     "metadata": {},
     "output_type": "display_data"
    },
    {
     "data": {
      "image/png": "[encoded data removed]",
      "text/plain": [
       "<Figure size 600x400 with 1 Axes>"
      ]
     },
     "metadata": {},
     "output_type": "display_data"
    }
   ],
   "source": [
    "import os\n",
    "import matplotlib.pyplot as plt\n",
    "import numpy as np\n",
    "from scipy.interpolate import make_interp_spline, interp1d\n",
    "\n",
    "from Fuzzing.calculate_code_coverage import calculate_coverage\n",
    "\n",
    "color_list = ['#9EB3C2', '#AFCAD0', '#C0E0DE', '#8BC3D9', '#6EACC7', '#468FAF', '#297596', '#014F86', '#013A63']\n",
    "tool_list = ['qsharpfuzz', 'quito', 'qsharpcheck', 'upbeat-m', 'muskit', 'qdiff', 'morphq', 'upbeat-r', 'upbeat']\n",
    "# marker_list = [',', 'o', '^', 'v', 'D', '<', '>', 'p', '*']\n",
    "\n",
    "def draw_one_line(y, label, color):\n",
    "    x = range(0, 25)\n",
    "    x_list = np.linspace(0, 24, 50)\n",
    "    f = interp1d(x, y, kind='linear')\n",
    "    y_list = f(x_list)\n",
    "    plt.plot(x_list, y_list, label=label, color=color)\n",
    "\n",
    "input_folder = \"../data/experiment/cov-result-origin/\"\n",
    "output_folder = \"../data/experiment/cov-result-calculated/\"\n",
    "# for input_file in os.listdir(input_folder):\n",
    "#     print(\"processing \"+input_file)\n",
    "#     calculate_coverage(input_folder+input_file, output_folder+input_file)\n",
    "line_cov_list, block_cov_list = [], []\n",
    "for tool, color in zip(tool_list, color_list):\n",
    "    line_cov, block_cov = [0.0], [0.0]\n",
    "    output_file = tool+\".txt\"\n",
    "    # print(\"drawing \"+output_file)\n",
    "    with open(output_folder+output_file, \"r\") as f:\n",
    "        lines = f.readlines()\n",
    "    for line in lines:\n",
    "        if len(line) == 0:\n",
    "            continue\n",
    "        block_cov.append(float(line.split(\" \")[1]))\n",
    "        line_cov.append(float(line.split(\" \")[2]))\n",
    "    line_cov_list.append(line_cov)\n",
    "    block_cov_list.append(block_cov)\n",
    "plt.figure(figsize=(6, 4))\n",
    "for line_cov, tool, color in zip(line_cov_list, tool_list, color_list):\n",
    "    draw_one_line(line_cov, tool, color)\n",
    "plt.legend(fontsize='small')\n",
    "plt.xticks(np.arange(0, 25, 1))\n",
    "plt.yticks(np.arange(0, 60, 5))\n",
    "plt.margins(x=0, y=0)\n",
    "# plt.tight_layout()\n",
    "plt.show()\n",
    "plt.figure(figsize=(6, 4))\n",
    "for block_cov, tool, color in zip(block_cov_list, tool_list, color_list):\n",
    "    draw_one_line(block_cov, tool, color)\n",
    "plt.legend(fontsize='small')\n",
    "plt.xticks(np.arange(0, 25, 1))\n",
    "plt.yticks(np.arange(0, 45, 5))\n",
    "plt.margins(x=0, y=0)\n",
    "# plt.tight_layout()\n",
    "plt.show()"
   ]
  },
  {
   "cell_type": "code",
   "execution_count": 12,
   "metadata": {},
   "outputs": [
    {
     "name": "stdout",
     "output_type": "stream",
     "text": [
      "Tool                            #Anomalies via language-level test\n",
      "----------------------------  ------------------------------------\n",
      "upbeat                                                           2\n",
      "qdiff&morphq&upbeat-r&upbeat                                     1\n",
      "upbeat-r&upbeat                                                  2\n",
      "upbeat-r                                                         1\n",
      "qsharpfuzz                                                       1\n",
      "upbeat-m&upbeat                                                  1\n",
      "\n",
      "\n",
      "Tool                            #Anomalies via differential testing\n",
      "----------------------------  -------------------------------------\n",
      "upbeat                                                            3\n",
      "qdiff&morphq&upbeat-r&upbeat                                      1\n",
      "qsharpfuzz&upbeat                                                 2\n",
      "upbeat-r&upbeat                                                   1\n",
      "upbeat-m                                                          1\n",
      "qsharpfuzz                                                        1\n"
     ]
    }
   ],
   "source": [
    "from tabulate import tabulate\n",
    "\n",
    "regex = r\"can be detected by (.*)\"\n",
    "lang_results, diff_results = {}, {}\n",
    "lang_dir = \"../data/experiment/anomalies-lang/\"\n",
    "for f in os.listdir(lang_dir):\n",
    "    with open(lang_dir+f) as fi:\n",
    "        first_line = fi.readline()\n",
    "    # print(\"first_line:\"+first_line)\n",
    "    match = re.search(regex, first_line)\n",
    "    tool = match.group(1)\n",
    "    if tool in lang_results:\n",
    "        lang_results[tool] += 1\n",
    "    else:\n",
    "        lang_results[tool] = 1\n",
    "print(tabulate(lang_results.items(), headers=[\"Tool\", \"#Anomalies via language-level test\"]))\n",
    "print(\"\\n\")\n",
    "abl_dir = \"../data/experiment/anomalies-diff/\"\n",
    "for f in os.listdir(abl_dir):\n",
    "    with open(abl_dir+f) as fi:\n",
    "        first_line = fi.readline()\n",
    "    match = re.search(regex, first_line)\n",
    "    tool = match.group(1)\n",
    "    if tool in diff_results:\n",
    "        diff_results[tool] += 1\n",
    "    else:\n",
    "        diff_results[tool] = 1\n",
    "print(tabulate(diff_results.items(), headers=[\"Tool\", \"#Anomalies via differential testing\"]))"
   ]
  },
  {
   "cell_type": "markdown",
   "metadata": {},
   "source": [
    "#### 3.3 Results for RQ3\n",
    "\n",
    "The Upbeat components all positively contribute to the bugexposing capability of the framework. Run the following two cells to observe the ablation results."
   ]
  },
  {
   "cell_type": "code",
   "execution_count": 13,
   "metadata": {},
   "outputs": [
    {
     "name": "stdout",
     "output_type": "stream",
     "text": [
      "Tool               #Bugs\n",
      "---------------  -------\n",
      "upbeat                 1\n",
      "upbeat-b&upbeat        3\n",
      "upbeat-a&upbeat        6\n"
     ]
    }
   ],
   "source": [
    "abl_results = {}\n",
    "abl_dir = \"../data/experiment/ablation-study/\"\n",
    "for f in os.listdir(abl_dir):\n",
    "    with open(abl_dir+f) as fi:\n",
    "        first_line = fi.readline()\n",
    "    match = re.search(regex, first_line)\n",
    "    tool = match.group(1)\n",
    "    if tool in abl_results:\n",
    "        abl_results[tool] += 1\n",
    "    else:\n",
    "        abl_results[tool] = 1\n",
    "print(tabulate(abl_results.items(), headers=[\"Tool\", \"#Bugs\"]))"
   ]
  },
  {
   "cell_type": "markdown",
   "metadata": {},
   "source": [
    "#### 3.4 Results for RQ4\n",
    "\n",
    "Upbeat is capable of extracting the majority of constraints from both source code and API documents with high accuracy. Run the following two cells to observe the extraction results."
   ]
  },
  {
   "cell_type": "code",
   "execution_count": 14,
   "metadata": {},
   "outputs": [
    {
     "name": "stdout",
     "output_type": "stream",
     "text": [
      "Source        Type       Recall    Precision\n",
      "------------  ---------  --------  -----------\n",
      "Source Code   classical  100%      93%\n",
      "              quantum    100%      96%\n",
      "API Document  classical  80%       81%\n",
      "              quantum    90%       84%\n"
     ]
    }
   ],
   "source": [
    "import json\n",
    "from tabulate import tabulate\n",
    "\n",
    "\n",
    "def get_rate(num1: int, num2: int):\n",
    "    if num2 == 0:\n",
    "        return 0.0\n",
    "    else:\n",
    "        return num1 / num2\n",
    "\n",
    "def convert_to_percent(n):\n",
    "    n = round(n, 2)\n",
    "    # print(\"n:\",n)\n",
    "    return \"%.0f%%\" % (n * 100)\n",
    "\n",
    "def calculate(d: dict):\n",
    "    classical_id, classical_ex, quantum_id, quantum_ex = 0.0, 0.0, 0.0, 0.0\n",
    "    classical_id_total, classical_ex_total, quantum_id_total, quantum_ex_total = 0, 0, 0, 0\n",
    "    for namespace, properties in d.items():\n",
    "        classical_id += get_rate(properties[\"classical-identified\"], properties[\"classical-id-total\"])\n",
    "        classical_ex += get_rate(properties[\"classical-extracted\"], properties[\"classical-ex-total\"])\n",
    "        quantum_id += get_rate(properties[\"quantum-identified\"], properties[\"quantum-id-total\"])        \n",
    "        quantum_ex += get_rate(properties[\"quantum-extracted\"], properties[\"quantum-ex-total\"])\n",
    "        if properties[\"classical-id-total\"] != 0:\n",
    "            classical_id_total += 1\n",
    "        if properties[\"classical-ex-total\"] != 0:\n",
    "            classical_ex_total += 1\n",
    "        if properties[\"quantum-id-total\"] != 0:\n",
    "            quantum_id_total += 1\n",
    "        if properties[\"quantum-ex-total\"] != 0:\n",
    "            quantum_ex_total += 1\n",
    "    # print(\"quantum_extracted:\", quantum_ex)\n",
    "    return convert_to_percent(classical_id / classical_id_total), convert_to_percent(classical_ex / classical_ex_total), \\\n",
    "           convert_to_percent(quantum_id / quantum_id_total), convert_to_percent(quantum_ex / quantum_ex_total)\n",
    "\n",
    "with open(\"../data/experiment/constraint-extraction/source-code.json\") as f1:\n",
    "    code_dict = json.load(f1)\n",
    "code_result = calculate(code_dict)\n",
    "tab = [(\"Source Code\", \"classical\", code_result[0], code_result[1]), (\"\", \"quantum\", code_result[2], code_result[3])]\n",
    "with open(\"../data/experiment/constraint-extraction/api-document.json\") as f2:\n",
    "    doc_dict = json.load(f2)\n",
    "doc_result = calculate(doc_dict)\n",
    "tab.append((\"API Document\", \"classical\", doc_result[0], doc_result[1]))\n",
    "tab.append((\"\", \"quantum\", doc_result[2], doc_result[3]))\n",
    "print(tabulate(tab, headers=[\"Source\", \"Type\", \"Recall\", \"Precision\"]))"
   ]
  }
 ],
 "metadata": {
  "kernelspec": {
   "display_name": "Python 3 (ipykernel)",
   "language": "python",
   "name": "python3"
  },
  "language_info": {
   "codemirror_mode": {
    "name": "ipython",
    "version": 3
   },
   "file_extension": ".py",
   "mimetype": "text/x-python",
   "name": "python",
   "nbconvert_exporter": "python",
   "pygments_lexer": "ipython3",
   "version": "3.11.4"
  },
  "vscode": {
   "interpreter": {
    "hash": "61a57a4b5406d2de388e2f91097d4e4bcd7d5f4a46f53a795aa28a02eed27fc5"
   }
  }
 },
 "nbformat": 4,
 "nbformat_minor": 4
}
