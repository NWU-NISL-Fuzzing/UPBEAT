{
 "cells": [
  {
   "cell_type": "markdown",
   "metadata": {},
   "source": [
    "### Step1 Generate test cases\n",
    "\n",
    "First, we need to import necessary tools and load code segment database. "
   ]
  },
  {
   "cell_type": "code",
   "execution_count": 1,
   "metadata": {},
   "outputs": [
    {
     "name": "stdout",
     "output_type": "stream",
     "text": [
      "Done.\n"
     ]
    }
   ],
   "source": [
    "import random\n",
    "import ast\n",
    "import os\n",
    "os.chdir(\"../src/Generate\")\n",
    "\n",
    "from basic_operation.dict_operation import get_rest_args\n",
    "from DBOperation.dboperation_sqlite import DataBaseHandle\n",
    "from combine_fragment import CodeFragmentGenerator, get_contained_cons\n",
    "from cons_generator.cwvp import generate_if_cons_exist\n",
    "from generate import Generate\n",
    "from class_for_info.fragment_info import CodeFragmentInfo\n",
    "\n",
    "generate = Generate(\"../config.json\")\n",
    "fragment = CodeFragmentGenerator(1, \"CodeFragment_CW\")\n",
    "frag_db = DataBaseHandle(\"../../data/query/corpus-v3.db\")\n",
    "frag_list = frag_db.selectAll(\"select * from CodeFragment_CW\")\n",
    "print(\"Done.\")"
   ]
  },
  {
   "cell_type": "markdown",
   "metadata": {},
   "source": [
    "Then, we can select a code segment from corpus, try to combine other segments with it, and generate all necessary input values. "
   ]
  },
  {
   "cell_type": "code",
   "execution_count": 2,
   "metadata": {},
   "outputs": [
    {
     "name": "stdout",
     "output_type": "stream",
     "text": [
      "\u001b[1mcontent of code segment:\u001b[0m\n",
      "let ket0 = (Complex(1.0, 0.0), Complex(0.0, 0.0));\n",
      "let angle6059 = (PI() * 5.0) / 7.0;\n",
      "H(register6059[0]);\n",
      "Exp([PauliZ, PauliZ], angle6059, register6059);\n",
      "H(register6059[0]);\n",
      "Exp([PauliX, PauliI], -angle6059, register6059);\n",
      "\n",
      "\u001b[1mpre-conditions:\u001b[0m {'register6059': 'Qubit[]'} \n",
      "\u001b[1mpost-conditions:\u001b[0m {'angle6059': 'Double'}\n"
     ]
    }
   ],
   "source": [
    "frag = random.choice(frag_list)\n",
    "available_variables = ast.literal_eval(frag[2])\n",
    "needful_variables = ast.literal_eval(frag[3])\n",
    "print(\"\\033[1mcontent of code segment:\\033[0m\\n\"+frag[1]+\n",
    "      \"\\033[1mpre-conditions:\\033[0m\",needful_variables,\"\\n\\033[1mpost-conditions:\\033[0m\",available_variables)"
   ]
  },
  {
   "cell_type": "code",
   "execution_count": 4,
   "metadata": {},
   "outputs": [
    {
     "name": "stdout",
     "output_type": "stream",
     "text": [
      "\u001b[1mvalid_stmt:\u001b[0m\n",
      "//no cons\n",
      "use register6059 = Qubit[1];\n",
      "// Modify initial state(s) of qubit(s). \n",
      "ApplyToEach(T, register6059);\n",
      "// Modify end. \n",
      "let ket0 = (Complex(1.0, 0.0), Complex(0.0, 0.0));\n",
      "let angle6059 = (PI() * 5.0) / 7.0;\n",
      "H(register6059[0]);\n",
      "Exp([PauliZ, PauliZ], angle6059, register6059);\n",
      "H(register6059[0]);\n",
      "Exp([PauliX, PauliI], -angle6059, register6059);\n",
      "DumpMachine();\n",
      "Message($\"{angle6059}\");\n",
      "ResetAll(register6059);\n",
      "\u001b[1minvalid_stmt:\u001b[0m\n",
      "//no cons\n",
      "use register6059 = Qubit[1];\n",
      "// Modify initial state(s) of qubit(s). \n",
      "ApplyToEach(T, register6059);\n",
      "// Modify end. \n",
      "let ket0 = (Complex(1.0, 0.0), Complex(0.0, 0.0));\n",
      "let angle6059 = (PI() * 5.0) / 7.0;\n",
      "H(register6059[0]);\n",
      "Exp([PauliZ, PauliZ], angle6059, register6059);\n",
      "H(register6059[0]);\n",
      "Exp([PauliX, PauliI], -angle6059, register6059);\n",
      "DumpMachine();\n",
      "Message($\"{angle6059}\");\n",
      "ResetAll(register6059);\n",
      "\n"
     ]
    }
   ],
   "source": [
    "# Parse constraints\n",
    "bool_expr_list, func_ret_list, quanternion_list, needful_args, partial_reset_stmt = \\\n",
    "    get_contained_cons(frag[1], needful_variables)\n",
    "# print(\"bool_expr_list:\",bool_expr_list,\"func_ret_list:\",func_ret_list)\n",
    "if len(bool_expr_list) > 0 or len(func_ret_list) > 0:\n",
    "    print(\"\\033[94mThere exist constraints!Start to generate inputs.\\033[0m\")\n",
    "    valid_stmt, invalid_stmt = \\\n",
    "        generate_if_cons_exist(bool_expr_list, func_ret_list, quanternion_list, needful_args)\n",
    "    print(\"==valid==\\n\"+valid_stmt+\"\\n==invalid==\\n\"+invalid_stmt)\n",
    "else:\n",
    "    valid_stmt, invalid_stmt = \"//no cons\\n\", \"//no cons\\n\"\n",
    "# If generation failed\n",
    "if valid_stmt is None:\n",
    "    print(\"\\033[91m!!!Generation failed!\\033[0m\")\n",
    "# Generate values for other variables\n",
    "needful_variables = get_rest_args(needful_variables, needful_args)\n",
    "this_fragment_info = CodeFragmentInfo(frag[1], available_variables,\n",
    "                                      needful_variables, frag[4], \n",
    "                                      frag[5], frag[6])\n",
    "combined_fragment, combined_import = fragment.generate_a_code_frag(this_fragment_info)\n",
    "if combined_fragment is None:\n",
    "    print(\"\\033[91m!!!Generation failed!\\033[0m\")\n",
    "else:\n",
    "    combined_fragment = combined_fragment.replace(\"\\n\\n\", \"\\n\").replace(\"//no cons\\n//no cons\\n\", \"//no cons\\n\")\n",
    "    print(\"\\033[1mvalid_stmt:\\033[0m\\n\"+valid_stmt+combined_fragment+\\\n",
    "          \"\\033[1minvalid_stmt:\\033[0m\\n\"+invalid_stmt+combined_fragment)"
   ]
  },
  {
   "cell_type": "markdown",
   "metadata": {},
   "source": [
    "Finally, we will combine all elements into a complete test case. If there are API constraints in the relevant code segments, Upbeat will generate two test cases (one for valid inputs and another for invalid inputs). Otherwise, Upbeat will generate a single test case. "
   ]
  },
  {
   "cell_type": "code",
   "execution_count": 5,
   "metadata": {},
   "outputs": [
    {
     "name": "stdout",
     "output_type": "stream",
     "text": [
      "\u001b[1m==valid_testcase==\n",
      "\u001b[0m namespace NISLNameSpace {\n",
      "    open Microsoft.Quantum.Intrinsic;\n",
      "    open Microsoft.Quantum.Convert;\n",
      "    open Microsoft.Quantum.Math;\n",
      "    open Microsoft.Quantum.Diagnostics;\n",
      "    open Microsoft.Quantum.Oracles;\n",
      "    open Microsoft.Quantum.Logical;\n",
      "    open Microsoft.Quantum.Canon;\n",
      "    open Microsoft.Quantum.Arrays;\n",
      "    open Microsoft.Quantum.Arithmetic;\n",
      "\n",
      "\n",
      "    \n",
      "    @EntryPoint()\n",
      "    operation main() : Unit {\n",
      "        //no cons\n",
      "        use register6059 = Qubit[1];\n",
      "        // Modify initial state(s) of qubit(s). \n",
      "        ApplyToEach(T, register6059);\n",
      "        // Modify end. \n",
      "        let ket0 = (Complex(1.0, 0.0), Complex(0.0, 0.0));\n",
      "        let angle6059 = (PI() * 5.0) / 7.0;\n",
      "        H(register6059[0]);\n",
      "        Exp([PauliZ, PauliZ], angle6059, register6059);\n",
      "        H(register6059[0]);\n",
      "        Exp([PauliX, PauliI], -angle6059, register6059);\n",
      "        DumpMachine();\n",
      "        Message($\"{angle6059}\");\n",
      "        ResetAll(register6059);\n",
      "        \n",
      "    }\n",
      "}\n",
      "Same as below.\n"
     ]
    }
   ],
   "source": [
    "valid_testcase, invalid_testcase = \"\", \"\"\n",
    "# Get self_defined_callables\n",
    "defined_callables = \"\"\n",
    "for item in fragment.self_defined_callables:\n",
    "    if isinstance(item, str):\n",
    "        if item not in defined_callables:\n",
    "            defined_callables += item\n",
    "    else:\n",
    "        if item.content not in defined_callables:\n",
    "            defined_callables += item.content\n",
    "# print(\"===defined_callables:\\n\"+defined_callables+\"\\n\")\n",
    "# Process valid test case\n",
    "valid_fragment = valid_stmt+combined_fragment+partial_reset_stmt\n",
    "valid_import = combined_import\n",
    "valid_testcase = generate.assemble_testcase(valid_fragment, valid_import, [defined_callables])\n",
    "print(\"\\033[1m==valid_testcase==\\n\\033[0m\",valid_testcase)\n",
    "# Process invalid test case\n",
    "if invalid_stmt is None or invalid_stmt == valid_stmt:\n",
    "    print(\"Same as below.\")\n",
    "else:\n",
    "    invalid_fragment = invalid_stmt+combined_fragment+partial_reset_stmt\n",
    "    invalid_import = combined_import\n",
    "    invalid_testcase = generate.assemble_testcase(invalid_fragment, invalid_import, [defined_callables])\n",
    "    print(\"\\033[1m==invalid_testcase==\\n\\033[0m\",invalid_testcase)"
   ]
  },
  {
   "cell_type": "markdown",
   "metadata": {},
   "source": [
    "### Step2   Execute test cases\n",
    "The test oracles of Upbeat come from (1) language-level testing via constraints or (2) differential testing. In language-level testing, any results deviate from expected behaviors, crashed and timeouts will be served as anomalous. "
   ]
  },
  {
   "cell_type": "code",
   "execution_count": 6,
   "metadata": {},
   "outputs": [
    {
     "name": "stdout",
     "output_type": "stream",
     "text": [
      "\u001b[1m==language-level testing==\u001b[0m\n",
      "\u001b[1mcmd:\u001b[0mdotnet run\n",
      "\u001b[1moutput1:\n",
      "\u001b[0m[]\n",
      "/root/UPBEAT/src/Fuzzing/qsharpPattern/Program.qs(21,25): warning CS0219: The variable 'ket0' is assigned but its value is never used [/root/UPBEAT/src/Fuzzing/qsharpPattern/qsharpPattern.csproj]\n",
      "Unhandled exception. System.InvalidOperationException: Both input arrays for Exp (paulis, targets), must be of same size.\n",
      " ---> Microsoft.Quantum.Intrinsic.Exp on /root/UPBEAT/src/Fuzzing/qsharpPattern/D:\\a\\1\\s\\submodules\\qsharp-runtime\\src\\Simulation\\TargetDefinitions\\Intrinsic\\Exp.qs:line 0\n",
      "   at NISLNameSpace.main on /root/UPBEAT/src/Fuzzing/qsharpPattern/Program.qs:line 0\n",
      "\u001b[92mnothing happened\u001b[0m\n"
     ]
    }
   ],
   "source": [
    "os.chdir(\"../Fuzzing\")\n",
    "\n",
    "from Fuzzing.lib.Harness import *\n",
    "from Fuzzing.lib.post_processor import *\n",
    "from Generate.basic_operation.file_operation import initParams\n",
    "\n",
    "# You can also change `valid_testcase`` into `invalid_testcase` if they are different\n",
    "testcase_content = valid_testcase\n",
    "\n",
    "print(\"\\033[1m==language-level testing==\\033[0m\")\n",
    "susp_flag = False\n",
    "# Record expected behavior\n",
    "if \"//wrong\" in testcase_content or \"//invalid\" in testcase_content:\n",
    "    flag = 0\n",
    "elif \"//correct\" in testcase_content or \"//valid\" in testcase_content:\n",
    "    flag = 1\n",
    "else:\n",
    "    flag = -1\n",
    "# Execute test case\n",
    "output = execute(0, testcase_content, [\"dotnet\", \"run\"], False)\n",
    "print(\"\\033[1moutput1:\\n\\033[0m\"+output.stdout)\n",
    "# Detect anomalous\n",
    "if  ((flag == 1 and output.returnCode != 0) or \n",
    "    (flag == 0 and output.returnCode == 0) or \n",
    "    output.outputClass in [\"timout\", \"crash\"]):\n",
    "    print(\"\\033[91m!!!find wrong cons\\033[0m\")\n",
    "    susp_flag = True\n",
    "else:\n",
    "    print(\"\\033[92mnothing happened\\033[0m\")"
   ]
  },
  {
   "cell_type": "markdown",
   "metadata": {},
   "source": [
    "In differential testing, Upbeat will detect any inconsistency, crash, or timeout. \n",
    "\n",
    "Note that the voting scheme has filtered some simple faulty behaviors. For example, ToffoliSimulator only supports parts of basic gates, it will throw a `NotImplementedException` exception if the test cases contain unsupported callables. Upbeat does not compare this exception with other results. "
   ]
  },
  {
   "cell_type": "code",
   "execution_count": 7,
   "metadata": {},
   "outputs": [
    {
     "name": "stdout",
     "output_type": "stream",
     "text": [
      "\u001b[1mcmd:\u001b[0mdotnet run -s SparseSimulator\n",
      "\u001b[1moutput2:\n",
      "\u001b[0m[]\n",
      "/root/UPBEAT/src/Fuzzing/qsharpPattern/Program.qs(21,25): warning CS0219: The variable 'ket0' is assigned but its value is never used [/root/UPBEAT/src/Fuzzing/qsharpPattern/qsharpPattern.csproj]\n",
      "Unhandled exception. System.InvalidOperationException: Both input arrays for Exp (paulis, targets), must be of same size.\n",
      " ---> Microsoft.Quantum.Intrinsic.Exp on /root/UPBEAT/src/Fuzzing/qsharpPattern/D:\\a\\1\\s\\submodules\\qsharp-runtime\\src\\Simulation\\TargetDefinitions\\Intrinsic\\Exp.qs:line 0\n",
      "   at NISLNameSpace.main on /root/UPBEAT/src/Fuzzing/qsharpPattern/Program.qs:line 0\n",
      "\u001b[1mcmd:\u001b[0mdotnet run -s ToffoliSimulator\n",
      "\u001b[1moutput3:\n",
      "\u001b[0m/root/UPBEAT/src/Fuzzing/qsharpPattern/Program.qs(21,25): warning CS0219: The variable 'ket0' is assigned but its value is never used [/root/UPBEAT/src/Fuzzing/qsharpPattern/qsharpPattern.csproj]\n",
      "Unhandled exception. System.NotImplementedException: The method or operation is not implemented.\n",
      " ---> Microsoft.Quantum.Intrinsic.T on /root/UPBEAT/src/Fuzzing/qsharpPattern/D:\\a\\1\\s\\submodules\\qsharp-runtime\\src\\Simulation\\TargetDefinitions\\Intrinsic\\T.qs:line 0\n",
      "   at Microsoft.Quantum.Canon.ApplyToEach on /root/UPBEAT/src/Fuzzing/qsharpPattern/D:\\a\\1\\s\\submodules\\QuantumLibraries\\Standard\\src\\Canon\\Combinators\\ApplyToEach.qs:line 0\n",
      "   at NISLNameSpace.main on /root/UPBEAT/src/Fuzzing/qsharpPattern/Program.qs:line 0\n",
      "\n",
      "\n",
      "\u001b[92mnothing happened\u001b[0m\n"
     ]
    }
   ],
   "source": [
    "# differential testing activates only if language-level testing detects no anomalies\n",
    "if not susp_flag and output.returnCode not in [134, 137]:\n",
    "    outputs = [output]\n",
    "    command_list = [[\"dotnet\", \"run\", \"-s\", \"SparseSimulator\"],\n",
    "                    [\"dotnet\", \"run\", \"-s\", \"ToffoliSimulator\"]]\n",
    "    # execute on SparseSimulator and ToffoliSimulator\n",
    "    for i, cmd in enumerate(command_list, start=2):\n",
    "        tmp_output = execute(0, output.testcaseContent, cmd, False)\n",
    "        outputs.append(tmp_output)\n",
    "        print(\"\\033[1moutput\"+str(i)+\":\\n\\033[0m\"+tmp_output.stdout)\n",
    "    # voting scheme\n",
    "    vote(outputs, output.testcaseContent)"
   ]
  },
  {
   "cell_type": "markdown",
   "metadata": {},
   "source": [
    "### Step3 Filter anomalies\n",
    "\n",
    "UPBEAT is capable of filtering the anomalies into three types: (1) bugs that have already been analyzed, (2) faulty that have already been analyzed, and (3) new anomalies awaiting verification. "
   ]
  },
  {
   "cell_type": "code",
   "execution_count": 11,
   "metadata": {},
   "outputs": [
    {
     "name": "stdout",
     "output_type": "stream",
     "text": [
      "situation 1\n",
      "\u001b[1mBugs that have already been analyzed:\u001b[0m\n",
      "3('Ceiling', 'OverflowException')\n",
      "\n",
      "\u001b[1mFaulty that have already been analyzed:\u001b[0m\n",
      "7('//correct', '//no cons')\n",
      "\n",
      "\u001b[1mNew anomalies awaiting verification:\u001b[0m\n",
      "\n"
     ]
    }
   ],
   "source": [
    "os.chdir(\"../\")\n",
    "\n",
    "from Fuzzing.history_bug_filter import filter_boundary, filter_differential\n",
    "\n",
    "if os.path.exists(\"new_anomalies.txt\"):\n",
    "    print(\"situation 1\")\n",
    "    with open(\"bug.txt\", \"r\") as f1:\n",
    "        content1 = f1.read()\n",
    "    print(\"\\033[1mBugs that have already been analyzed:\\033[0m\\n\"+content1)\n",
    "    with open(\"faulty.txt\", \"r\") as f2:\n",
    "        content2 = f2.read()\n",
    "    print(\"\\033[1mFaulty that have already been analyzed:\\033[0m\\n\"+content2)\n",
    "    with open(\"new_anomalies.txt\", \"r\") as f3:\n",
    "        content3 = f3.read()\n",
    "    print(\"\\033[1mNew anomalies awaiting verification:\\033[0m\\n\"+content3)    \n",
    "else:\n",
    "    print(\"situation 2\")\n",
    "    result_db = DataBaseHandle(\"../../data/result/UPBEAT.db\")\n",
    "    history_db = DataBaseHandle(\"../../data/query/history-bugs.db\")\n",
    "    filter_boundary(result_db, history_db)\n",
    "    filter_differential(result_db)"
   ]
  }
 ],
 "metadata": {
  "kernelspec": {
   "display_name": "Python 3.11.4 ('base': conda)",
   "language": "python",
   "name": "python3"
  },
  "language_info": {
   "codemirror_mode": {
    "name": "ipython",
    "version": 3
   },
   "file_extension": ".py",
   "mimetype": "text/x-python",
   "name": "python",
   "nbconvert_exporter": "python",
   "pygments_lexer": "ipython3",
   "version": "3.11.4"
  },
  "orig_nbformat": 4,
  "vscode": {
   "interpreter": {
    "hash": "61a57a4b5406d2de388e2f91097d4e4bcd7d5f4a46f53a795aa28a02eed27fc5"
   }
  }
 },
 "nbformat": 4,
 "nbformat_minor": 2
}
