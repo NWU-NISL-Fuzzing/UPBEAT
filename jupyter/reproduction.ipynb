{
 "cells": [
  {
   "cell_type": "markdown",
   "metadata": {},
   "source": [
    "In our paper, we design four RQs to evaluate Upbeat:\n",
    "* RQ1: How effectively Upbeat is on detecting boundary bugs in Q# libraries?\n",
    "* RQ2: How does Upbeat compare with prior methods and baselines on bug detection?\n",
    "* RQ3: How do individual components of Upbeat contribute to its overall performance?\n",
    "* RQ4: How effective is Upbeat in extracting constraints from Q# libraries and API documents?\n",
    "\n",
    "Please run the following cells to view our experiment results.\n",
    "\n",
    "### Results for RQ1\n",
    "\n",
    "During our experiment period, Upbeat has uncovered 16 implementation bugs and 4 API document errors. To review all the bugs detected by Upbeat during this period, please refer to the following cell."
   ]
  },
  {
   "cell_type": "code",
   "execution_count": 1,
   "metadata": {},
   "outputs": [
    {
     "name": "stdout",
     "output_type": "stream",
     "text": [
      "| No.  |     API     |     Version      |                             Link                             | Status                         | Contributor                              | Description   |\n",
      "| :--: | :--------------: | :----------------------------------------------------------: | ------------------------------ | ---------------------------------------- | ------------------------------------------------ | ---- |\n",
      "| 1 | Binom | V0.21.2111177148 | [Bug Report1](https://github.com/microsoft/QuantumLibraries/issues/498) | First Found & Verified & Fixed | [Xing Qu](https://github.com/QuXing9) | k=0 or n=k will cause an overflow |\n",
      "| 2 | HalfIntegerBinom | v0.21.2111177148 | [Bug-Report2](/docs/bug/bug-14.png) | Verified & Fixed | [Xing Qu](https://github.com/QuXing9) | k=0 will cause overflow |\n",
      "| 3 | Sin | v0.25.228311 | [Bug-Report3](https://github.com/microsoft/QuantumLibraries/issues/624) | First Found & Verified | [Tianmin Hu](https://github.com/weucode) | different os has different outputs for theta=PI()/4 |\n",
      "| 4 | Ceiling | v0.25.228311 | [Bug-Report4](https://github.com/microsoft/qsharp-runtime/issues/1107) | First Found & Verified | [Tianmin Hu](https://github.com/weucode) | NaN() cause an overflow |\n",
      "| 5 | Truncate | v0.27.258160 | [Bug-Report5](https://github.com/microsoft/qsharp-runtime/issues/1139) | Submit | [Tianmin Hu](https://github.com/weucode) | send a large number to the argument will cause an overflow |\n",
      "| 6 | IncrementPhaseByModularInteger | v0.25.228311 | [Bug-Report6](https://github.com/microsoft/QuantumLibraries/issues/639) | Submit | [Qianbao He](https://github.com/hofirstb19) | has unknown qubits are unreleased |\n",
      "| 7 | IdenticalPointPosFactFxP | v0.27.238334 | [Bug-Report7](https://github.com/microsoft/QuantumLibraries/issues/645) | First Found & Verified & Fixed | [Tianmin Hu](https://github.com/weucode) | check is out of work when Length(fixedPoint)=2 |\n",
      "| 8 | Chunks | v0.23.195983 | [Bug Report8](https://github.com/microsoft/QuantumLibraries/issues/538) | First Found & Verified & Fixed | [Tianmin Hu](https://github.com/weucode) | nElements=0 cause a timeout |\n",
      "| 9 | SequenceL | v0.27.258160 | [Bug-Report9](https://github.com/microsoft/QuantumLibraries/issues/662) | Submit | [Tianmin Hu](https://github.com/weucode) | error check for to-from |\n",
      "| 10 | IntAsBoolArray | V0.21.2111177148 | [Bug Report10](https://github.com/microsoft/QuantumLibraries/issues/503) | First Found & Verified & Fixed | [Xing Qu](https://github.com/QuXing9)  | bits = 63 will fail to convert |\n",
      "| 11 | Parity | v0.24.201332 | [Bug-Report11](https://github.com/microsoft/qsharp-runtime/issues/993) | First Found & Verified | [Xing Qu](https://github.com/QuXing9) | failed when a is negative |\n",
      "| 12 | PurifiedMixedStateRequirements | v0.24.201332 | [Bug-Report12](https://github.com/microsoft/QuantumLibraries/issues/570) | First Found & Verified & Fixed | [Tianmin Hu](https://github.com/weucode) | a non-positive argument will cause overflow |\n",
      "| 13 | AssertQubitWithinTolerance | 0.24.201332 | [Bug-Report13](https://github.com/microsoft/qsharp-runtime/issues/990) | Submit | [Xing Qu](https://github.com/QuXing9) | always raises unexception with a wrong judge when tolerance is negative |\n",
      "| 14 | DumpMachine | v0.24.201332 | [Bug-Report14](https://github.com/microsoft/qsharp-runtime/issues/1081#issuecomment-1518472023) | Verified & Fixed | [Tianmin Hu](https://github.com/weucode) | the qubit states is encoded in big-endian instead of little-endian |\n",
      "| 15 | DumpRegister | v0.28.263081 | [Bug-Report15](https://github.com/microsoft/QuantumLibraries/issues/671) | Submit | [Zhenye Fan](https://github.com/AidPaike) | failed to report the given qubits are entangled with some other qubits |\n",
      "| 16 | Adjoint ApplyAnd | v0.28.277227 | [Bug-Report16](https://github.com/microsoft/QuantumLibraries/issues/677) | Submit | [Tianmin Hu](https://github.com/weucode) | ToffoliSimulator outputs different result compared to other simulators |\n",
      "\n",
      "| No.  | API                           | Version      | Link                                                         | Status                         | Contributor                              | Description                                                  |\n",
      "| ---- | ----------------------------- | ------------ | ------------------------------------------------------------ | ------------------------------ | ---------------------------------------- | ------------------------------------------------------------ |\n",
      "| 1    | Padded                        | v0.24.201332 | [Bug-Report1](https://github.com/microsoft/QuantumLibraries/issues/554) | First Found & Verified & Fixed | [Xing Qu](https://github.com/QuXing9)    | wrong argument order                                         |\n",
      "| 2    | Last                          | v0.24.201332 | [Bug-Report2](https://github.com/microsoft/QuantumLibraries/issues/563) | First Found & Verified & Fixed | [Tianmin Hu](https://github.com/weucode) | the example contains APIs that have been deprecated in the latest SDK version |\n",
      "| 3    | ApproximateFactorial          | v0.24.201332 | [Bug-Report3](https://github.com/microsoft/QuantumLibraries/issues/571) | First Found & Verified & Fixed | [Tianmin Hu](https://github.com/weucode) | the boundary description is wrong                            |\n",
      "| 4    | _ComputeJordanWignerBitString | v0.25.228311 | [Bug-Report4](https://github.com/microsoft/QuantumLibraries/issues/646) | First Found & Verified & Fixed | [Tianmin Hu](https://github.com/weucode) | the value of the first argument is wrong                     |\n",
      "\n"
     ]
    }
   ],
   "source": [
    "import re\n",
    "\n",
    "def extract_tables_from_md(md_file):\n",
    "    with open(md_file, 'r', encoding='utf-8') as file:\n",
    "        md_content = file.read()\n",
    "\n",
    "    # 使用正则表达式匹配Markdown中的表格\n",
    "    table_pattern = r'\\|.*\\|[\\s\\S]*?\\n(?=\\n|\\Z)'\n",
    "    tables = re.findall(table_pattern, md_content)\n",
    "\n",
    "    return tables\n",
    "\n",
    "def main():\n",
    "    md_file = '../data/experiment/BugList.md'  # 替换为你的Markdown文件路径\n",
    "    tables = extract_tables_from_md(md_file)\n",
    "\n",
    "    for table in tables:\n",
    "        print(table)\n",
    "\n",
    "if __name__ == \"__main__\":\n",
    "    main()"
   ]
  },
  {
   "cell_type": "markdown",
   "metadata": {},
   "source": [
    "### Results for RQ2\n",
    "\n",
    "Upbeat outperforms the competing baselines by providing better code coverage and identifying more potential bugs with the same test time. Execute the following two cells to observe the coverage and anomaly results."
   ]
  },
  {
   "cell_type": "code",
   "execution_count": 3,
   "metadata": {},
   "outputs": [
    {
     "ename": "ModuleNotFoundError",
     "evalue": "No module named 'scipy'",
     "output_type": "error",
     "traceback": [
      "\u001b[0;31m---------------------------------------------------------------------------\u001b[0m",
      "\u001b[0;31mModuleNotFoundError\u001b[0m                       Traceback (most recent call last)",
      "Cell \u001b[0;32mIn[3], line 4\u001b[0m\n\u001b[1;32m      2\u001b[0m \u001b[38;5;28;01mimport\u001b[39;00m \u001b[38;5;21;01mmatplotlib\u001b[39;00m\u001b[38;5;21;01m.\u001b[39;00m\u001b[38;5;21;01mpyplot\u001b[39;00m \u001b[38;5;28;01mas\u001b[39;00m \u001b[38;5;21;01mplt\u001b[39;00m\n\u001b[1;32m      3\u001b[0m \u001b[38;5;28;01mimport\u001b[39;00m \u001b[38;5;21;01mnumpy\u001b[39;00m \u001b[38;5;28;01mas\u001b[39;00m \u001b[38;5;21;01mnp\u001b[39;00m\n\u001b[0;32m----> 4\u001b[0m \u001b[38;5;28;01mfrom\u001b[39;00m \u001b[38;5;21;01mscipy\u001b[39;00m\u001b[38;5;21;01m.\u001b[39;00m\u001b[38;5;21;01minterpolate\u001b[39;00m \u001b[38;5;28;01mimport\u001b[39;00m make_interp_spline\n\u001b[1;32m      6\u001b[0m \u001b[38;5;28;01mfrom\u001b[39;00m \u001b[38;5;21;01mFuzzing\u001b[39;00m\u001b[38;5;21;01m.\u001b[39;00m\u001b[38;5;21;01mcalculate_code_coverage\u001b[39;00m \u001b[38;5;28;01mimport\u001b[39;00m calculate_coverage\n\u001b[1;32m      8\u001b[0m color_list \u001b[38;5;241m=\u001b[39m [\u001b[38;5;124m'\u001b[39m\u001b[38;5;124m#9EB3C2\u001b[39m\u001b[38;5;124m'\u001b[39m, \u001b[38;5;124m'\u001b[39m\u001b[38;5;124m#AFCAD0\u001b[39m\u001b[38;5;124m'\u001b[39m, \u001b[38;5;124m'\u001b[39m\u001b[38;5;124m#C0E0DE\u001b[39m\u001b[38;5;124m'\u001b[39m, \u001b[38;5;124m'\u001b[39m\u001b[38;5;124m#8BC3D9\u001b[39m\u001b[38;5;124m'\u001b[39m, \u001b[38;5;124m'\u001b[39m\u001b[38;5;124m#6EACC7\u001b[39m\u001b[38;5;124m'\u001b[39m, \u001b[38;5;124m'\u001b[39m\u001b[38;5;124m#468FAF\u001b[39m\u001b[38;5;124m'\u001b[39m, \u001b[38;5;124m'\u001b[39m\u001b[38;5;124m#297596\u001b[39m\u001b[38;5;124m'\u001b[39m, \u001b[38;5;124m'\u001b[39m\u001b[38;5;124m#014F86\u001b[39m\u001b[38;5;124m'\u001b[39m, \u001b[38;5;124m'\u001b[39m\u001b[38;5;124m#013A63\u001b[39m\u001b[38;5;124m'\u001b[39m]\n",
      "\u001b[0;31mModuleNotFoundError\u001b[0m: No module named 'scipy'"
     ]
    }
   ],
   "source": [
    "import os\n",
    "import matplotlib.pyplot as plt\n",
    "import numpy as np\n",
    "from scipy.interpolate import make_interp_spline\n",
    "\n",
    "from Fuzzing.calculate_code_coverage import calculate_coverage\n",
    "\n",
    "color_list = ['#9EB3C2', '#AFCAD0', '#C0E0DE', '#8BC3D9', '#6EACC7', '#468FAF', '#297596', '#014F86', '#013A63']\n",
    "tool_list = ['qsharpfuzz', 'quito', 'qsharpcheck', 'upbeat-m', 'muskit', 'qdiff', 'morphq', 'upbeat-r', 'upbeat']\n",
    "\n",
    "def draw_one_line(axss, y, label, color):\n",
    "    # print(\"check:\",len(y))\n",
    "    x = range(0, 25)\n",
    "    x_list = np.linspace(0, 24, 50)\n",
    "    y_list = make_interp_spline(x, y)(x_list)\n",
    "    axss.plot(x_list, y_list, label=label, color=color)\n",
    "\n",
    "input_folder = \"../data/experiment/cov-result-origin/\"\n",
    "output_folder = \"../data/experiment/cov-result-calculated/\"\n",
    "# for input_file in os.listdir(input_folder):\n",
    "#     print(\"processing \"+input_file)\n",
    "#     calculate_coverage(input_folder+input_file, output_folder+input_file)\n",
    "fig, axs = plt.subplots(1, 2, figsize=(10, 4))\n",
    "for tool, color in zip(tool_list, color_list):\n",
    "    line_cov, branch_cov = [0.0], [0.0]\n",
    "    output_file = tool+\".txt\"\n",
    "    print(\"drawing \"+output_file)\n",
    "    with open(output_folder+output_file, \"r\") as f:\n",
    "        lines = f.readlines()\n",
    "    for line in lines:\n",
    "        if len(line) == 0:\n",
    "            continue\n",
    "        line_cov.append(float(line.split(\" \")[1]))\n",
    "        branch_cov.append(float(line.split(\" \")[2]))\n",
    "    draw_one_line(axs[0], line_cov, tool, color)\n",
    "    draw_one_line(axs[1], branch_cov, tool, color)\n",
    "axs[0].legend()\n",
    "axs[1].legend()\n",
    "axs[0].set_xticks(np.arange(0, 25, 1))\n",
    "axs[1].set_xticks(np.arange(0, 25, 1))\n",
    "plt.margins(x=0)\n",
    "plt.tight_layout()\n",
    "plt.show()"
   ]
  },
  {
   "cell_type": "code",
   "execution_count": null,
   "metadata": {},
   "outputs": [],
   "source": [
    "from tabulate import tabulate\n",
    "\n",
    "regex = r\"can be detected by (.*)\"\n",
    "lang_results, diff_results = {}, {}\n",
    "lang_dir = \"../data/experiment/anomalies-lang/\"\n",
    "for f in os.listdir(lang_dir):\n",
    "    with open(lang_dir+f) as fi:\n",
    "        first_line = fi.readline()\n",
    "    # print(\"first_line:\"+first_line)\n",
    "    match = re.search(regex, first_line)\n",
    "    tool = match.group(1)\n",
    "    if tool in lang_results:\n",
    "        lang_results[tool] += 1\n",
    "    else:\n",
    "        lang_results[tool] = 1\n",
    "print(tabulate(lang_results.items(), headers=[\"Tool\", \"#Anomalies via language-level test\"]))\n",
    "print(\"\\n\")\n",
    "abl_dir = \"../data/experiment/anomalies-diff/\"\n",
    "for f in os.listdir(abl_dir):\n",
    "    with open(abl_dir+f) as fi:\n",
    "        first_line = fi.readline()\n",
    "    match = re.search(regex, first_line)\n",
    "    tool = match.group(1)\n",
    "    if tool in diff_results:\n",
    "        diff_results[tool] += 1\n",
    "    else:\n",
    "        diff_results[tool] = 1\n",
    "print(tabulate(diff_results.items(), headers=[\"Tool\", \"#Anomalies via differential testing\"]))"
   ]
  },
  {
   "cell_type": "markdown",
   "metadata": {},
   "source": [
    "### Results for RQ3\n",
    "\n",
    "The Upbeat components all positively contribute to the bugexposing capability of the framework. Run the following two cells to observe the ablation results."
   ]
  },
  {
   "cell_type": "code",
   "execution_count": null,
   "metadata": {},
   "outputs": [],
   "source": [
    "abl_results = {}\n",
    "abl_dir = \"../data/experiment/ablation-study/\"\n",
    "for f in os.listdir(abl_dir):\n",
    "    with open(abl_dir+f) as fi:\n",
    "        first_line = fi.readline()\n",
    "    match = re.search(regex, first_line)\n",
    "    tool = match.group(1)\n",
    "    if tool in abl_results:\n",
    "        abl_results[tool] += 1\n",
    "    else:\n",
    "        abl_results[tool] = 1\n",
    "print(tabulate(abl_results.items(), headers=[\"Tool\", \"#Bugs\"]))"
   ]
  },
  {
   "cell_type": "markdown",
   "metadata": {},
   "source": [
    "### Results for RQ4\n",
    "\n",
    "Upbeat is capable of extracting the majority of constraints from both source code and API documents with high accuracy. Run the following two cells to observe the extraction results."
   ]
  },
  {
   "cell_type": "code",
   "execution_count": null,
   "metadata": {},
   "outputs": [],
   "source": [
    "import json\n",
    "from tabulate import tabulate\n",
    "\n",
    "\n",
    "def get_rate(num1: int, num2: int):\n",
    "    if num2 == 0:\n",
    "        return 0.0\n",
    "    else:\n",
    "        return num1 / num2\n",
    "\n",
    "def convert_to_percent(n):\n",
    "    n = round(n, 2)\n",
    "    # print(\"n:\",n)\n",
    "    return \"%.0f%%\" % (n * 100)\n",
    "\n",
    "def calculate(d: dict):\n",
    "    classical_id, classical_ex, quantum_id, quantum_ex = 0.0, 0.0, 0.0, 0.0\n",
    "    classical_id_total, classical_ex_total, quantum_id_total, quantum_ex_total = 0, 0, 0, 0\n",
    "    for namespace, properties in d.items():\n",
    "        classical_id += get_rate(properties[\"classical-identified\"], properties[\"classical-id-total\"])\n",
    "        classical_ex += get_rate(properties[\"classical-extracted\"], properties[\"classical-ex-total\"])\n",
    "        quantum_id += get_rate(properties[\"quantum-identified\"], properties[\"quantum-id-total\"])        \n",
    "        quantum_ex += get_rate(properties[\"quantum-extracted\"], properties[\"quantum-ex-total\"])\n",
    "        if properties[\"classical-id-total\"] != 0:\n",
    "            classical_id_total += 1\n",
    "        if properties[\"classical-ex-total\"] != 0:\n",
    "            classical_ex_total += 1\n",
    "        if properties[\"quantum-id-total\"] != 0:\n",
    "            quantum_id_total += 1\n",
    "        if properties[\"quantum-ex-total\"] != 0:\n",
    "            quantum_ex_total += 1\n",
    "    # print(\"quantum_extracted:\", quantum_ex)\n",
    "    return convert_to_percent(classical_id / classical_id_total), convert_to_percent(classical_ex / classical_ex_total), \\\n",
    "           convert_to_percent(quantum_id / quantum_id_total), convert_to_percent(quantum_ex / quantum_ex_total)\n",
    "\n",
    "with open(\"../data/experiment/constraint-extraction/source-code.json\") as f1:\n",
    "    code_dict = json.load(f1)\n",
    "code_result = calculate(code_dict)\n",
    "tab = [(\"Source Code\", \"classical\", code_result[0], code_result[1]), (\"\", \"quantum\", code_result[2], code_result[3])]\n",
    "with open(\"../data/experiment/constraint-extraction/api-document.json\") as f2:\n",
    "    doc_dict = json.load(f2)\n",
    "doc_result = calculate(doc_dict)\n",
    "tab.append((\"API Document\", \"classical\", doc_result[0], doc_result[1]))\n",
    "tab.append((\"\", \"quantum\", doc_result[2], doc_result[3]))\n",
    "print(tabulate(tab, headers=[\"Source\", \"Type\", \"Recall\", \"Precision\"]))"
   ]
  }
 ],
 "metadata": {
  "kernelspec": {
   "display_name": "Python 3 (ipykernel)",
   "language": "python",
   "name": "python3"
  },
  "language_info": {
   "codemirror_mode": {
    "name": "ipython",
    "version": 3
   },
   "file_extension": ".py",
   "mimetype": "text/x-python",
   "name": "python",
   "nbconvert_exporter": "python",
   "pygments_lexer": "ipython3",
   "version": "3.11.5"
  }
 },
 "nbformat": 4,
 "nbformat_minor": 4
}
