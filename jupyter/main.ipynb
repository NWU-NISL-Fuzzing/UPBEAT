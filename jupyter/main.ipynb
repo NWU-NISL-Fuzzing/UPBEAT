{
 "cells": [
  {
   "cell_type": "markdown",
   "metadata": {},
   "source": [
    "### Step1 Generate test cases"
   ]
  },
  {
   "cell_type": "code",
   "execution_count": null,
   "metadata": {
    "vscode": {
     "languageId": "plaintext"
    }
   },
   "outputs": [],
   "source": [
    "\n",
    "import random\n",
    "import ast\n",
    "\n",
    "from basic_operation.dict_operation import get_rest_args\n",
    "from DBOperation.dboperation_sqlite import DataBaseHandle\n",
    "from combine_fragment import CodeFragmentGenerator, get_contained_cons\n",
    "from cons_generator.cwvp import generate_if_cons_exist\n",
    "from generate import Generate\n",
    "from class_for_info.fragment_info import CodeFragmentInfo\n",
    "\n",
    "# Load necessary tools\n",
    "generate = Generate(\"../config.json\")\n",
    "fragment = CodeFragmentGenerator(1, \"CodeFragment\")\n",
    "# Load code segment database\n",
    "frag_db = DataBaseHandle(params[\"corpus_db\"])\n",
    "frag_list = frag_db.selectAll(\"select * from CodeFragment\")\n",
    "# Randomly select a code segment\n",
    "frag = random.choice(frag_list)\n",
    "available_variables = ast.literal_eval(frag[2])\n",
    "needful_variables = ast.literal_eval(frag[3])\n",
    "# Parse constraints\n",
    "bool_expr_list, func_ret_list, quanternion_list, needful_args, partial_reset_stmt = \\\n",
    "    get_contained_cons(frag[1], needful_variables)\n",
    "# print(\"bool_expr_list:\",bool_expr_list,\"func_ret_list:\",func_ret_list)\n",
    "if len(bool_expr_list) > 0 or len(func_ret_list) > 0:\n",
    "    print(\"\\033[94mThere exist constraints!Start to generate inputs.\\033[0m\")\n",
    "    correct_stmt, wrong_stmt = \\\n",
    "        generate_if_cons_exist(bool_expr_list, func_ret_list, quanternion_list, needful_args)\n",
    "    print(\"==Correct==\\n\"+correct_stmt+\"\\n==Wrong==\\n+wrong_stmt)\n",
    "else:\n",
    "    correct_stmt, wrong_stmt = \"//no cons\\n\", \"//no cons\\n\"\n",
    "# If generation failed\n",
    "if correct_stmt is None:\n",
    "    print(\"\\033[91m!!!Generation failed!\\033[0m\")\n",
    "# Generate values for other variables\n",
    "needful_variables = get_rest_args(needful_variables, needful_args)\n",
    "this_fragment_info = CodeFragmentInfo(frag[1], available_variables,\n",
    "                                      needful_variables, frag[4], \n",
    "                                      frag[5], frag[6])\n",
    "combined_fragment, combined_import = fragment.generate_a_code_frag(this_fragment_info)\n",
    "if combined_fragment is None:\n",
    "    print(\"\\033[91m!!!Generation failed!\\033[0m\")\n",
    "# Get self_defined_callables\n",
    "defined_callables = \"\"\n",
    "for item in fragment.self_defined_callables:\n",
    "    if isinstance(item, str):\n",
    "        if item not in defined_callables:\n",
    "            defined_callables += item\n",
    "    else:\n",
    "        if item.content not in defined_callables:\n",
    "            defined_callables += item.content\n",
    "# print(\"===defined_callables:\\n\"+defined_callables+\"\\n\")\n",
    "# Process correct test case\n",
    "correct_fragment = correct_stmt+combined_fragment+partial_reset_stmt\n",
    "correct_import = combined_import\n",
    "correct_testcase = generate.assemble_testcase(correct_fragment, correct_import, [defined_callables])\n",
    "print(\"==correct_testcase==\\n\",correct_testcase)\n",
    "# Process wrong test case\n",
    "if wrong_stmt is None or wrong_stmt == correct_stmt:\n",
    "    print(\"Same as below.\")\n",
    "else:\n",
    "    wrong_fragment = wrong_stmt+combined_fragment+partial_reset_stmt\n",
    "    wrong_import = combined_import\n",
    "    wrong_testcase = generate.assemble_testcase(wrong_fragment, wrong_import, [defined_callables])\n",
    "    print(\"==wrong_testcase==\\n\",wrong_testcase)"
   ]
  }
 ],
 "metadata": {
  "language_info": {
   "name": "python"
  },
  "orig_nbformat": 4
 },
 "nbformat": 4,
 "nbformat_minor": 2
}
